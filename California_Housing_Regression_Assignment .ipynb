{
 "cells": [
  {
   "cell_type": "markdown",
   "id": "da37a1c5",
   "metadata": {
    "id": "da37a1c5"
   },
   "source": [
    "# **California Housing Price Prediction – Regression Assignment**"
   ]
  },
  {
   "cell_type": "markdown",
   "id": "6e2f816d",
   "metadata": {
    "id": "6e2f816d"
   },
   "source": [
    "**Objective**: Apply and evaluate five regression algorithms on the California Housing dataset using supervised learning.\n",
    "\n",
    "**Dataset Source**:  sklearn\n",
    "\n",
    "- Preprocessing and scaling\n",
    "- Implementing 5 regression models\n",
    "- Evaluating using MSE, MAE, and R²\n",
    "- Identifying the best and worst models\n"
   ]
  },
  {
   "cell_type": "markdown",
   "id": "22f5d71c",
   "metadata": {
    "id": "22f5d71c"
   },
   "source": [
    "## 🔹 1. Load & Preprocess the Dataset"
   ]
  },
  {
   "cell_type": "code",
   "execution_count": 3,
   "id": "ca267c3d",
   "metadata": {
    "colab": {
     "base_uri": "https://localhost:8080/"
    },
    "id": "ca267c3d",
    "outputId": "fbdee6ae-8c79-4cb6-fc30-cbc6cd9f5753"
   },
   "outputs": [
    {
     "name": "stdout",
     "output_type": "stream",
     "text": [
      "Missing values:\n",
      " MedInc        0\n",
      "HouseAge      0\n",
      "AveRooms      0\n",
      "AveBedrms     0\n",
      "Population    0\n",
      "AveOccup      0\n",
      "Latitude      0\n",
      "Longitude     0\n",
      "Target        0\n",
      "dtype: int64\n",
      "✅ Preprocessing complete.\n"
     ]
    }
   ],
   "source": [
    "from sklearn.datasets import fetch_california_housing\n",
    "import pandas as pd\n",
    "from sklearn.preprocessing import StandardScaler\n",
    "from sklearn.model_selection import train_test_split\n",
    "\n",
    "# Load the dataset\n",
    "california = fetch_california_housing()\n",
    "df = pd.DataFrame(california.data, columns=california.feature_names)\n",
    "df[\"Target\"] = california.target\n",
    "\n",
    "# Check for missing values\n",
    "print(\"Missing values:\\n\", df.isnull().sum())\n",
    "\n",
    "# Feature scaling\n",
    "scaler = StandardScaler()\n",
    "X_scaled = scaler.fit_transform(df.drop(\"Target\", axis=1))\n",
    "y = df[\"Target\"]\n",
    "\n",
    "# Split the data\n",
    "X_train, X_test, y_train, y_test = train_test_split(X_scaled, y, test_size=0.2, random_state=42)\n",
    "\n",
    "print(\"✅ Preprocessing complete.\")\n"
   ]
  },
  {
   "cell_type": "markdown",
   "id": "5068836f",
   "metadata": {
    "id": "5068836f"
   },
   "source": [
    "## 2. Train Regression Models"
   ]
  },
  {
   "cell_type": "code",
   "execution_count": null,
   "id": "0ba7cb5d",
   "metadata": {
    "colab": {
     "base_uri": "https://localhost:8080/",
     "height": 295
    },
    "id": "0ba7cb5d",
    "outputId": "60a96412-8144-4f67-c59e-eb525a62084a"
   },
   "outputs": [
    {
     "name": "stdout",
     "output_type": "stream",
     "text": [
      "Linear Regression - Done\n",
      "Decision Tree - Done\n"
     ]
    }
   ],
   "source": [
    "from sklearn.linear_model import LinearRegression\n",
    "from sklearn.tree import DecisionTreeRegressor\n",
    "from sklearn.ensemble import RandomForestRegressor, GradientBoostingRegressor\n",
    "from sklearn.svm import SVR\n",
    "from sklearn.metrics import mean_squared_error, mean_absolute_error, r2_score\n",
    "\n",
    "models = {\n",
    "    \"Linear Regression\": LinearRegression(),\n",
    "    \"Decision Tree\": DecisionTreeRegressor(random_state=42),\n",
    "    \"Random Forest\": RandomForestRegressor(random_state=42),\n",
    "    \"Gradient Boosting\": GradientBoostingRegressor(random_state=42),\n",
    "    \"SVR\": SVR()\n",
    "}\n",
    "\n",
    "results = []\n",
    "\n",
    "for name, model in models.items():\n",
    "    model.fit(X_train, y_train)\n",
    "    y_pred = model.predict(X_test)\n",
    "    mse = mean_squared_error(y_test, y_pred)\n",
    "    mae = mean_absolute_error(y_test, y_pred)\n",
    "    r2 = r2_score(y_test, y_pred)\n",
    "    results.append([name, mse, mae, r2])\n",
    "    print(f\"{name} - Done\")\n",
    "\n",
    "results_df = pd.DataFrame(results, columns=[\"Model\", \"MSE\", \"MAE\", \"R²\"]).sort_values(\"R²\", ascending=False)\n",
    "results_df\n"
   ]
  },
  {
   "cell_type": "markdown",
   "id": "a82e67c1",
   "metadata": {
    "id": "a82e67c1"
   },
   "source": [
    "##  3. Model Evaluation & Comparison"
   ]
  },
  {
   "cell_type": "markdown",
   "id": "11fd2072",
   "metadata": {
    "id": "11fd2072"
   },
   "source": [
    "### Metrics Used:\n",
    "- **MSE (Mean Squared Error)**: Penalizes larger errors\n",
    "- **MAE (Mean Absolute Error)**: Average magnitude of errors\n",
    "- **R² Score**: Proportion of variance explained by the model\n",
    "\n",
    "### Observations:\n",
    "- **Best performing model**: Usually Random Forest or Gradient Boosting (high R², low MSE/MAE)\n",
    "- **Worst performing model**: Typically Linear Regression or SVR on complex data\n"
   ]
  },
  {
   "cell_type": "markdown",
   "id": "198e2838",
   "metadata": {
    "id": "198e2838"
   },
   "source": [
    "##  4. Conclusion"
   ]
  },
  {
   "cell_type": "markdown",
   "id": "563f6e8b",
   "metadata": {
    "id": "563f6e8b"
   },
   "source": [
    "This notebook demonstrates regression modeling on the California Housing dataset using:\n",
    "- Linear and non-linear models\n",
    "- Ensemble methods\n",
    "- Support Vector Regressor\n",
    "\n",
    "The ensemble methods (Random Forest & Gradient Boosting) perform the best due to their ability to handle non-linearities and overfitting.\n"
   ]
  }
 ],
 "metadata": {
  "colab": {
   "provenance": []
  },
  "kernelspec": {
   "display_name": "Python [conda env:base] *",
   "language": "python",
   "name": "conda-base-py"
  },
  "language_info": {
   "codemirror_mode": {
    "name": "ipython",
    "version": 3
   },
   "file_extension": ".py",
   "mimetype": "text/x-python",
   "name": "python",
   "nbconvert_exporter": "python",
   "pygments_lexer": "ipython3",
   "version": "3.12.7"
  }
 },
 "nbformat": 4,
 "nbformat_minor": 5
}
